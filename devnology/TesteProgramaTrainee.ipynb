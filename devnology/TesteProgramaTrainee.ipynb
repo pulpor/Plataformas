{
 "cells": [
  {
   "attachments": {},
   "cell_type": "markdown",
   "metadata": {},
   "source": [
    "# Devnology - Teste Programa de Trainee\n",
    "\n",
    "## Faça o que der conta\n",
    "\n",
    "A Devnology trabalha com diferentes projetos e tecnologias. Trouxemos algumas das experiências que você pode ter por aqui com este exercício. \n",
    "\n",
    "Faça o que der conta e utilize a tecnologia que preferir. O intuito deste exercício é validar o máximo de conhecimento que você possui.\n",
    "\n",
    "## Sobre o exercício\n",
    "\n",
    "Você deve construir um sistema para salvar links de artigos de tecnologia. \n",
    "\n",
    "- Desenvolva uma API gerenciar links, com a URL e um título/label. Os links também podem ser editados e excluídos.\n",
    "- Construa uma interface, como quiser, para que um usuário possa ver e gerenciar os links manualmente\n",
    "- Automatize este processo de salvar links com um web crawler que importe artigos de seus blogs favoritos, como a [devGo](https://devgo.com.br/).\n",
    "- Hospede sua aplicação em algum servidor.\n",
    "\n",
    "Fique a vontade para incluir mais funcionalidades. Seja criativo, pense sempre na experiência de usuário e construa um sistema que realmente possa ser bem utilizado.\n",
    "\n",
    "## Entregando o teste\n",
    "\n",
    "Para entregar o teste, crie um repositório no Github e envie o link para nós através do [formulário de inscrição](https://docs.google.com/forms/d/e/1FAIpQLSfZqhx7ZEuNYwT_VzWq9kJ3vIQrNJIPaxCoeWXq7n-yxjlZcQ/viewform). Lembre-se de deixar todo seu processo de desenvolvimento e explicação para uso do sistema bem documentado no `README.md`."
   ]
  },
  {
   "cell_type": "code",
   "execution_count": 1,
   "metadata": {},
   "outputs": [
    {
     "name": "stdout",
     "output_type": "stream",
     "text": [
      " * Serving Flask app '__main__'\n",
      " * Debug mode: on\n"
     ]
    },
    {
     "name": "stderr",
     "output_type": "stream",
     "text": [
      "WARNING: This is a development server. Do not use it in a production deployment. Use a production WSGI server instead.\n",
      " * Running on http://127.0.0.1:5000\n",
      "Press CTRL+C to quit\n",
      " * Restarting with stat\n"
     ]
    },
    {
     "ename": "SystemExit",
     "evalue": "1",
     "output_type": "error",
     "traceback": [
      "An exception has occurred, use %tb to see the full traceback.\n",
      "\u001b[1;31mSystemExit\u001b[0m\u001b[1;31m:\u001b[0m 1\n"
     ]
    },
    {
     "name": "stderr",
     "output_type": "stream",
     "text": [
      "C:\\Users\\pulpp\\AppData\\Roaming\\Python\\Python310\\site-packages\\IPython\\core\\interactiveshell.py:3441: UserWarning: To exit: use 'exit', 'quit', or Ctrl-D.\n",
      "  warn(\"To exit: use 'exit', 'quit', or Ctrl-D.\", stacklevel=1)\n"
     ]
    }
   ],
   "source": [
    "from flask import Flask, request\n",
    "from flask_restful import Resource, Api\n",
    "\n",
    "app = Flask(__name__)\n",
    "api = Api(app)\n",
    "\n",
    "# Criando uma lista para armazenar os links\n",
    "links = []\n",
    "\n",
    "class LinkManager(Resource):\n",
    "    # Método para adicionar um link\n",
    "    def post(self):\n",
    "        # Recebendo as informações da URL e do título/label do link enviadas no corpo da requisição\n",
    "        url = request.form['url']\n",
    "        title = request.form['title']\n",
    "\n",
    "        # Adicionando o link na lista\n",
    "        links.append({'url': url, 'title': title})\n",
    "\n",
    "        # Retornando uma mensagem de sucesso\n",
    "        return {'message': 'Link adicionado com sucesso!'}\n",
    "\n",
    "    # Método para editar um link\n",
    "    def put(self, id):\n",
    "        # Recebendo as informações da URL e do título/label do link enviadas no corpo da requisição\n",
    "        url = request.form['url']\n",
    "        title = request.form['title']\n",
    "\n",
    "        # Atualizando as informações do link na lista\n",
    "        links[id] = {'url': url, 'title': title}\n",
    "\n",
    "        # Retornando uma mensagem de sucesso\n",
    "        return {'message': 'Link atualizado com sucesso!'}\n",
    "\n",
    "    # Método para excluir um link\n",
    "    def delete(self, id):\n",
    "        # Removendo o link da lista\n",
    "        del links[id]\n",
    "\n",
    "        # Retornando uma mensagem de sucesso\n",
    "        return {'message': 'Link excluído com sucesso!'}\n",
    "\n",
    "# Adicionando a rota para a API\n",
    "api.add_resource(LinkManager, '/link/<int:id>')\n",
    "\n",
    "# Verificando se o arquivo está sendo executado diretamente\n",
    "if __name__ == '__main__':\n",
    "    app.run(debug=True)\n"
   ]
  }
 ],
 "metadata": {
  "kernelspec": {
   "display_name": "Python 3",
   "language": "python",
   "name": "python3"
  },
  "language_info": {
   "codemirror_mode": {
    "name": "ipython",
    "version": 3
   },
   "file_extension": ".py",
   "mimetype": "text/x-python",
   "name": "python",
   "nbconvert_exporter": "python",
   "pygments_lexer": "ipython3",
   "version": "3.10.6"
  },
  "orig_nbformat": 4,
  "vscode": {
   "interpreter": {
    "hash": "369f2c481f4da34e4445cda3fffd2e751bd1c4d706f27375911949ba6bb62e1c"
   }
  }
 },
 "nbformat": 4,
 "nbformat_minor": 2
}
