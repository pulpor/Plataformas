{
  "nbformat": 4,
  "nbformat_minor": 0,
  "metadata": {
    "colab": {
      "provenance": [],
      "toc_visible": true,
      "authorship_tag": "ABX9TyOQzaXyVplUonRGF31vr+/C",
      "include_colab_link": true
    },
    "kernelspec": {
      "name": "python3",
      "display_name": "Python 3"
    },
    "language_info": {
      "name": "python"
    }
  },
  "cells": [
    {
      "cell_type": "markdown",
      "metadata": {
        "id": "view-in-github",
        "colab_type": "text"
      },
      "source": [
        "<a href=\"https://colab.research.google.com/github/pulpor/ebac/blob/main/Exerc%C3%ADcio_3.ipynb\" target=\"_parent\"><img src=\"https://colab.research.google.com/assets/colab-badge.svg\" alt=\"Open In Colab\"/></a>"
      ]
    },
    {
      "cell_type": "markdown",
      "source": [
        "# Exercício 3"
      ],
      "metadata": {
        "id": "slAh_r5Lkwli"
      }
    },
    {
      "cell_type": "code",
      "execution_count": null,
      "metadata": {
        "colab": {
          "base_uri": "https://localhost:8080/"
        },
        "id": "StudCrblVTlK",
        "outputId": "d59623ba-fa54-4b36-bb6a-7a89d20c9927"
      },
      "outputs": [
        {
          "output_type": "stream",
          "name": "stdout",
          "text": [
            "{'tempo_gasto_site': 68.95, 'idade': 35, 'renda_area': 61833.9, 'tempo_gasto_internet': 256.09, 'cidade': 'Wrightburgh', 'pais': 'Tunisia', 'clicou_no_ad': 0}\n",
            "{'tempo_gasto_site': 80.23, 'idade': 31, 'renda_area': 68441.85, 'tempo_gasto_internet': 193.77, 'cidade': 'West Jodi', 'pais': 'Nauru', 'clicou_no_ad': 0}\n",
            "{'tempo_gasto_site': 69.47, 'idade': 26, 'renda_area': 59785.94, 'tempo_gasto_internet': 236.5, 'cidade': 'Davidton', 'pais': 'San Marino', 'clicou_no_ad': 0}\n",
            "{'tempo_gasto_site': 68.37, 'idade': 35, 'renda_area': 73889.99, 'tempo_gasto_internet': 225.58, 'cidade': 'South Manuel', 'pais': 'Iceland', 'clicou_no_ad': 0}\n",
            "{'tempo_gasto_site': 88.91, 'idade': 33, 'renda_area': 53852.85, 'tempo_gasto_internet': 208.36, 'cidade': 'Brandonstad', 'pais': 'Myanmar', 'clicou_no_ad': 0}\n",
            "{'tempo_gasto_site': None, 'idade': 48, 'renda_area': 24593.33, 'tempo_gasto_internet': 131.76, 'cidade': 'Port Jefferybury', 'pais': 'Australia', 'clicou_no_ad': 1}\n",
            "{'tempo_gasto_site': 74.53, 'idade': 30, 'renda_area': 68862.0, 'tempo_gasto_internet': 221.51, 'cidade': 'West Colin', 'pais': 'Grenada'}\n",
            "{'tempo_gasto_site': 69.88, 'idade': 20, 'renda_area': 55642.32, 'tempo_gasto_internet': 183.82, 'cidade': 'Ramirezton', 'pais': 'Ghana', 'clicou_no_ad': 0}\n"
          ]
        }
      ],
      "source": [
        "#Exercício 1\n",
        "propaganda_online = [\n",
        "    \n",
        "  {'tempo_gasto_site': 68.95, 'idade': 35, 'renda_area': 61833.90, 'tempo_gasto_internet': 256.09, 'cidade': 'Wrightburgh', 'pais': 'Tunisia', 'clicou_no_ad': 0},\n",
        "  {'tempo_gasto_site': 80.23, 'idade': 31, 'renda_area': 68441.85, 'tempo_gasto_internet': 193.77, 'cidade': 'West Jodi', 'pais': 'Nauru', 'clicou_no_ad': 0},\n",
        "  {'tempo_gasto_site': 69.47, 'idade': 26, 'renda_area': 59785.94, 'tempo_gasto_internet': 236.50, 'cidade': 'Davidton', 'pais': 'San Marino', 'clicou_no_ad': 0},\n",
        "  {'tempo_gasto_site': 68.37, 'idade': 35, 'renda_area': 73889.99, 'tempo_gasto_internet': 225.58, 'cidade': 'South Manuel', 'pais': 'Iceland', 'clicou_no_ad': 0},\n",
        "  {'tempo_gasto_site': 88.91, 'idade': 33, 'renda_area': 53852.85, 'tempo_gasto_internet': 208.36, 'cidade': 'Brandonstad', 'pais': 'Myanmar', 'clicou_no_ad': 0},\n",
        "  {'tempo_gasto_site': None, 'idade': 48, 'renda_area': 24593.33, 'tempo_gasto_internet': 131.76, 'cidade': 'Port Jefferybury', 'pais': 'Australia', 'clicou_no_ad': 1},\n",
        "  {'tempo_gasto_site': 74.53, 'idade': 30, 'renda_area': 68862.00, 'tempo_gasto_internet': 221.51, 'cidade': 'West Colin', 'pais': 'Grenada'},\n",
        "  {'tempo_gasto_site': 69.88, 'idade': 20, 'renda_area': 55642.32, 'tempo_gasto_internet': 183.82, 'cidade': 'Ramirezton', 'pais': 'Ghana', 'clicou_no_ad': 0}\n",
        "\n",
        "]\n",
        "\n",
        "for dado_de_usuario in propaganda_online:\n",
        "  print(dado_de_usuario);\n"
      ]
    },
    {
      "cell_type": "code",
      "source": [
        "#Exercício 1.1 - extraindo dois valores\n",
        "for dado_de_usuario in propaganda_online:\n",
        "  print(dado_de_usuario['tempo_gasto_site']);\n",
        "  print(dado_de_usuario['idade']);\n",
        "  print('\\n');\n"
      ],
      "metadata": {
        "colab": {
          "base_uri": "https://localhost:8080/"
        },
        "id": "otrw71VomHki",
        "outputId": "55b75b38-3da2-4d45-f422-a005e519bdc2"
      },
      "execution_count": null,
      "outputs": [
        {
          "output_type": "stream",
          "name": "stdout",
          "text": [
            "68.95\n",
            "35\n",
            "\n",
            "\n",
            "80.23\n",
            "31\n",
            "\n",
            "\n",
            "69.47\n",
            "26\n",
            "\n",
            "\n",
            "68.37\n",
            "35\n",
            "\n",
            "\n",
            "88.91\n",
            "33\n",
            "\n",
            "\n",
            "None\n",
            "48\n",
            "\n",
            "\n",
            "74.53\n",
            "30\n",
            "\n",
            "\n",
            "69.88\n",
            "20\n",
            "\n",
            "\n"
          ]
        }
      ]
    },
    {
      "cell_type": "code",
      "source": [
        "#Exercício 2\n",
        "for dado_de_usuario in propaganda_online:\n",
        "  if (dado_de_usuario['tempo_gasto_internet']>100):\n",
        "    {print(dado_de_usuario['cidade'])};\n"
      ],
      "metadata": {
        "colab": {
          "base_uri": "https://localhost:8080/"
        },
        "id": "bfQMdc8HksSa",
        "outputId": "cc879696-d2e9-4daf-ff80-54cf9ca54b0e"
      },
      "execution_count": null,
      "outputs": [
        {
          "output_type": "stream",
          "name": "stdout",
          "text": [
            "Wrightburgh\n",
            "West Jodi\n",
            "Davidton\n",
            "South Manuel\n",
            "Brandonstad\n",
            "Port Jefferybury\n",
            "West Colin\n",
            "Ramirezton\n"
          ]
        }
      ]
    },
    {
      "cell_type": "code",
      "source": [
        "#Exercício 3\n",
        "for dado_de_usuario in propaganda_online:\n",
        "  try:\n",
        "    if dado_de_usuario['tempo_gasto_site']>70:\n",
        "      print(dado_de_usuario['cidade']);    \n",
        "  except:\n",
        "    print('este usuario não tem tempo de site, porém (caso queira saber), sua cidade é: '+ (dado_de_usuario['cidade'])); "
      ],
      "metadata": {
        "colab": {
          "base_uri": "https://localhost:8080/"
        },
        "id": "dOLPiqxr0_Ou",
        "outputId": "6736dd7a-d72a-4f4b-817e-a1eb066eb378"
      },
      "execution_count": null,
      "outputs": [
        {
          "output_type": "stream",
          "name": "stdout",
          "text": [
            "West Jodi\n",
            "Brandonstad\n",
            "este usuario não tem tempo de site, porém (caso queira saber), sua cidade é: Port Jefferybury\n",
            "West Colin\n"
          ]
        }
      ]
    },
    {
      "cell_type": "markdown",
      "source": [
        "# Bônus"
      ],
      "metadata": {
        "id": "oTCh2QmN4ev_"
      }
    },
    {
      "cell_type": "code",
      "source": [
        "paises = []\n",
        "for dado_de_usuario in propaganda_online:\n",
        "  if dado_de_usuario['idade']>30:\n",
        "    paises.append(dado_de_usuario['pais']);\n",
        "\n",
        "print(paises)"
      ],
      "metadata": {
        "colab": {
          "base_uri": "https://localhost:8080/"
        },
        "id": "hDiz3T_T8PSl",
        "outputId": "27f150cb-877e-4a56-ccc2-7e4735c2142d"
      },
      "execution_count": null,
      "outputs": [
        {
          "output_type": "stream",
          "name": "stdout",
          "text": [
            "['Tunisia', 'Nauru', 'Iceland', 'Myanmar', 'Australia']\n"
          ]
        }
      ]
    },
    {
      "cell_type": "code",
      "source": [
        "leads = []\n",
        "\n",
        "for dado_de_usuario in propaganda_online:\n",
        "  try:\n",
        "    if dado_de_usuario['clicou_no_ad'] > 0:\n",
        "      leads.append(dado_de_usuario['renda_area'])\n",
        "  except KeyError:\n",
        "    print('algum usuário está sem o comando')\n",
        "  \n",
        "\n",
        "print(leads)"
      ],
      "metadata": {
        "colab": {
          "base_uri": "https://localhost:8080/"
        },
        "id": "ba9cgnuk9UIN",
        "outputId": "b56272d8-84de-47dd-f65f-ba4c95eab571"
      },
      "execution_count": null,
      "outputs": [
        {
          "output_type": "stream",
          "name": "stdout",
          "text": [
            "algum usuário está sem o comando\n",
            "[24593.33]\n"
          ]
        }
      ]
    }
  ]
}