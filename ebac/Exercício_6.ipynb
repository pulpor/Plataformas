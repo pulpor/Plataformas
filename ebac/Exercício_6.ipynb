{
  "nbformat": 4,
  "nbformat_minor": 0,
  "metadata": {
    "colab": {
      "provenance": [],
      "toc_visible": true,
      "authorship_tag": "ABX9TyPu+Nqc6TXFDsOoyi/+1WeY",
      "include_colab_link": true
    },
    "kernelspec": {
      "name": "python3",
      "display_name": "Python 3"
    },
    "language_info": {
      "name": "python"
    }
  },
  "cells": [
    {
      "cell_type": "markdown",
      "metadata": {
        "id": "view-in-github",
        "colab_type": "text"
      },
      "source": [
        "<a href=\"https://colab.research.google.com/github/pulpor/ebac/blob/main/Exerc%C3%ADcio_6.ipynb\" target=\"_parent\"><img src=\"https://colab.research.google.com/assets/colab-badge.svg\" alt=\"Open In Colab\"/></a>"
      ]
    },
    {
      "cell_type": "markdown",
      "source": [
        "# 0. Preparação do ambiente"
      ],
      "metadata": {
        "id": "BhX7A7gCO4mP"
      }
    },
    {
      "cell_type": "code",
      "execution_count": null,
      "metadata": {
        "colab": {
          "base_uri": "https://localhost:8080/"
        },
        "id": "_GLjWp_hORLW",
        "outputId": "c25f8b0f-7a9b-4c9a-9f8b-f527471b0cb0"
      },
      "outputs": [
        {
          "output_type": "stream",
          "name": "stdout",
          "text": [
            "Writing carros.csv\n"
          ]
        }
      ],
      "source": [
        "%%writefile carros.csv\n",
        "id,valor_venda,valor_manutencao,portas,pessoas,porta_malas\n",
        "1,vhigh,med,2,2,small\n",
        "2,med,vhigh,2,2,small\n",
        "3,low,vhigh,2,2,small\n",
        "4,low,high,2,2,small\n",
        "5,low,high,2,2,small\n",
        "6,low,high,4,4,big\n",
        "7,low,high,4,4,big\n",
        "8,low,med,2,2,small\n",
        "9,low,med,2,2,small\n",
        "10,low,med,2,2,small\n",
        "11,low,med,4,4,big\n",
        "12,low,low,2,2,small\n",
        "13,low,low,4,4,small\n",
        "14,low,low,4,4,med"
      ]
    },
    {
      "cell_type": "code",
      "source": [
        "%%writefile musica.txt\n",
        "Roda Viva\n",
        "Chico Buarque\n",
        "Tem dias que a gente se sente\n",
        "Como quem partiu ou morreu\n",
        "A gente estancou de repente\n",
        "Ou foi o mundo então que cresceu\n",
        "A gente quer ter voz ativa\n",
        "No nosso destino mandar\n",
        "Mas eis que chega a roda viva\n",
        "E carrega o destino pra lá\n",
        "Roda mundo, roda-gigante\n",
        "Roda moinho, roda pião\n",
        "O tempo rodou num instante\n",
        "Nas voltas do meu coração\n",
        "A gente vai contra a corrente\n",
        "Até não poder resistir\n",
        "Na volta do barco é que sente\n",
        "O quanto deixou de cumprir\n",
        "Faz tempo que a gente cultiva\n",
        "A mais linda roseira que há\n",
        "Mas eis que chega a roda viva\n",
        "E carrega a roseira pra lá\n",
        "Roda mundo, roda-gigante\n",
        "Roda moinho, roda pião"
      ],
      "metadata": {
        "colab": {
          "base_uri": "https://localhost:8080/"
        },
        "id": "DJhS8BiaO8Ev",
        "outputId": "99887df1-f31d-4d4a-b4eb-dde5525ebdf0"
      },
      "execution_count": null,
      "outputs": [
        {
          "output_type": "stream",
          "name": "stdout",
          "text": [
            "Writing musica.txt\n"
          ]
        }
      ]
    },
    {
      "cell_type": "markdown",
      "source": [
        "# 1. Classe para ler arquivos de texto"
      ],
      "metadata": {
        "id": "BaQfc2a2R__P"
      }
    },
    {
      "cell_type": "markdown",
      "source": [
        "Crie a classe **ArquivoTexto**. Ela deve conter os seguintes atributos:\n",
        "\n",
        "\n",
        "\n",
        "    self.arquivo: Atributo do tipo str com o nome do arquivo;\n",
        "    self.conteudo: Atributo do tipo list onde cada elemento é uma linha do arquivo;\n",
        "\n",
        "\n",
        "A classe também deve conter o seguinte método:\n",
        "\n",
        "\n",
        "    self.extrair_conteudo: Método que realiza a leitura do arquivo e retorna o conteúdo.\n",
        "    self.extrair_linha: Método que recebe como parâmetro o número da linha e retorna a linha do conteúdo."
      ],
      "metadata": {
        "id": "EKQV3XxlSCyu"
      }
    },
    {
      "cell_type": "code",
      "source": [
        "\n",
        "class ArquivoTexto(object):\n",
        "\n",
        "  def __init__ (self, arquivo: str):\n",
        "    self.arquivo = arquivo\n",
        "    self.conteudo = self.extrair_conteudo();\n",
        "\n",
        "  def extrair_conteudo (self):\n",
        "    conteudo = None\n",
        "\n",
        "    with open(file=self.arquivo, mode='r', encoding='utf8') as arquivo:\n",
        "      conteudo = arquivo.readlines();\n",
        "    return conteudo\n",
        "\n",
        "  def extrair_linha (self, numero_linha: int):\n",
        "    return self.conteudo[numero_linha-2]\n"
      ],
      "metadata": {
        "id": "2Ub1Zv-FSL-e"
      },
      "execution_count": null,
      "outputs": []
    },
    {
      "cell_type": "markdown",
      "source": [
        "Utilize o código abaixo para testar sua classe."
      ],
      "metadata": {
        "id": "K2GUG904Tkzl"
      }
    },
    {
      "cell_type": "code",
      "source": [
        "arquivo_texto = ArquivoTexto(arquivo='musica.txt')\n",
        "numero_linha = 1\n",
        "print(\n",
        " arquivo_texto.extrair_linha(\n",
        " numero_linha=numero_linha\n",
        " )\n",
        ") # Roda Viva\n",
        "numero_linha = 10\n",
        "print(\n",
        " arquivo_texto.extrair_linha(\n",
        " numero_linha=numero_linha\n",
        " )\n",
        ") # Mas eis que chega a roda viva"
      ],
      "metadata": {
        "colab": {
          "base_uri": "https://localhost:8080/"
        },
        "id": "Iddk3dWJTY2W",
        "outputId": "edc78104-e87a-4331-93a6-33f7d10b392f"
      },
      "execution_count": null,
      "outputs": [
        {
          "output_type": "stream",
          "name": "stdout",
          "text": [
            "Roda moinho, roda pião\n",
            "\n",
            "Mas eis que chega a roda viva\n",
            "\n"
          ]
        }
      ]
    },
    {
      "cell_type": "markdown",
      "source": [
        "# 2. Classe para ler arquivos de csv"
      ],
      "metadata": {
        "id": "EWnbjltsTnDG"
      }
    },
    {
      "cell_type": "markdown",
      "source": [
        "Crie a classe **ArquivoCSV**. Ela deve extender (herdar) a classe ArquivoTexto para reaproveitar os seus atributos (self.arquivo e self.conteudo). Além disso, adicione o seguinte atributo:\n",
        "\n",
        "    self.colunas: Atributo do tipo list onde os elementos são os nome das colunas;\n",
        "A classe também deve conter o seguinte método:\n",
        "\n",
        "    self.extrair_nome_colunas: Método que retorna o nome das colunas do arquivo.\n",
        "    extrair_coluna: Método que recebe como parâmetro o indice da coluna e retorna o valor em questão."
      ],
      "metadata": {
        "id": "_P2cF6HCTt69"
      }
    },
    {
      "cell_type": "code",
      "source": [
        "class ArquivoCSV(ArquivoTexto):\n",
        "\n",
        "  def __init__(self, arquivo: str):\n",
        "    \n",
        "    super().__init__(arquivo=arquivo)\n",
        "    self.conteudo = self.conteudo\n",
        "    self.linha = self.extrair_linha\n",
        "    self.colunas = self.extrair_nome_colunas()\n",
        "\n",
        "  def extrair_nome_colunas(self):\n",
        "    return self.conteudo[0].strip().split(sep=',')\n",
        "  \n",
        "  def extrair_coluna(self, indice_coluna: int):\n",
        "    contador = 1\n",
        "    coluna = []\n",
        "\n",
        "    while contador < len(self.conteudo):\n",
        "      linha = self.conteudo[contador].strip().split(sep=',')\n",
        "      coluna.append(linha[indice_coluna])\n",
        "      contador += 1\n",
        "    return coluna"
      ],
      "metadata": {
        "id": "YT-0g0OvTtdd"
      },
      "execution_count": null,
      "outputs": []
    },
    {
      "cell_type": "markdown",
      "source": [
        "Utilize o código abaixo para testar sua classe."
      ],
      "metadata": {
        "id": "lBu_DKXkT_A1"
      }
    },
    {
      "cell_type": "code",
      "source": [
        "arquivo_csv = ArquivoCSV(arquivo='carros.csv')\n",
        "\n",
        "\n",
        "numero_linha = 1\n",
        "print(arquivo_csv.extrair_linha(numero_linha=numero_linha)) \n",
        "# id,valor_venda,valor_manutencao,portas,pessoas,porta_malas\n",
        "\n",
        "print(arquivo_csv.colunas) \n",
        "# ['id', 'valor_venda', 'valor_manutencao', 'portas', 'pessoas', 'porta_malas']\n",
        "\n",
        "numero_linha = 10\n",
        "print(arquivo_csv.extrair_linha(numero_linha=numero_linha))\n",
        "# 9,low,med,2,2,small\n",
        "\n",
        "indice_coluna = 2\n",
        "print(arquivo_csv.extrair_coluna(indice_coluna=indice_coluna)) \n",
        "# ['med', 'vhigh', 'vhigh', 'high',"
      ],
      "metadata": {
        "colab": {
          "base_uri": "https://localhost:8080/"
        },
        "id": "fqnaTACOUAFN",
        "outputId": "906d83d4-729e-4c90-945e-a69abc35f498"
      },
      "execution_count": null,
      "outputs": [
        {
          "output_type": "stream",
          "name": "stdout",
          "text": [
            "14,low,low,4,4,med\n",
            "\n",
            "['id', 'valor_venda', 'valor_manutencao', 'portas', 'pessoas', 'porta_malas']\n",
            "8,low,med,2,2,small\n",
            "\n",
            "['med', 'vhigh', 'vhigh', 'high', 'high', 'high', 'high', 'med', 'med', 'med', 'med', 'low', 'low', 'low']\n"
          ]
        }
      ]
    }
  ]
}