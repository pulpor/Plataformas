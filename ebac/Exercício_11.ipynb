{
  "nbformat": 4,
  "nbformat_minor": 0,
  "metadata": {
    "colab": {
      "provenance": []
    },
    "kernelspec": {
      "name": "python3",
      "display_name": "Python 3"
    },
    "language_info": {
      "name": "python"
    }
  },
  "cells": [
    {
      "cell_type": "code",
      "source": [
        "import requests\n",
        "\n",
        "url = \"https://www.imdb.com/robots.txt\"\n",
        "response = requests.get(url)\n",
        "\n",
        "robots = response.text\n",
        "\n",
        "if \"top\" in robots or \"charts\" in robots:\n",
        "  print(True)\n",
        "  \n",
        "else:\n",
        "  print(False)"
      ],
      "metadata": {
        "colab": {
          "base_uri": "https://localhost:8080/"
        },
        "id": "xzTN6heQr8lU",
        "outputId": "1e70d82e-884f-45a1-c468-4651d161fda5"
      },
      "execution_count": 7,
      "outputs": [
        {
          "output_type": "stream",
          "name": "stdout",
          "text": [
            "False\n"
          ]
        }
      ]
    },
    {
      "cell_type": "code",
      "execution_count": 5,
      "metadata": {
        "colab": {
          "base_uri": "https://localhost:8080/",
          "height": 191
        },
        "id": "4LSLVfkxfM1S",
        "outputId": "b5e0d5bc-ead7-4988-b510-a38cd2d29f1b"
      },
      "outputs": [
        {
          "output_type": "display_data",
          "data": {
            "text/plain": [
              "[[1, 'The Shawshank Redemption', '1994', '9.2'],\n",
              " [2, 'The Godfather', '1972', '9.2'],\n",
              " [3, 'The Dark Knight', '2008', '9.0'],\n",
              " [4, 'The Godfather: Part II', '1974', '9.0'],\n",
              " [5, '12 Angry Men', '1957', '9.0'],\n",
              " [6, \"Schindler's List\", '1993', '8.9'],\n",
              " [7, 'The Lord of the Rings: The Return of the King', '2003', '8.9'],\n",
              " [8, 'Pulp Fiction', '1994', '8.8'],\n",
              " [9, 'The Lord of the Rings: The Fellowship of the Ring', '2001', '8.8'],\n",
              " [10, 'The Good, the Bad and the Ugly', '1966', '8.8']]"
            ]
          },
          "metadata": {}
        }
      ],
      "source": [
        "import requests\n",
        "from bs4 import BeautifulSoup\n",
        "import csv\n",
        "\n",
        "# Fazendo o download da página com o pacote requests\n",
        "URL = 'https://www.imdb.com/chart/top/'\n",
        "response = requests.get(URL)\n",
        "response.raise_for_status()\n",
        "\n",
        "# Carregando o HTML na variável pagina com o pacote beautifulsoup4\n",
        "pagina = BeautifulSoup(response.text, 'html.parser')\n",
        "\n",
        "# Encontrando a tabela com os filmes\n",
        "tabela = pagina.find('table', {'class': 'chart'})\n",
        "\n",
        "# Extraindo os dados de interesse\n",
        "conteudo_extraido = []\n",
        "for i, linha in enumerate(tabela.find_all('tr')[1:11]):\n",
        " \n",
        "    ranking = i + 1\n",
        "    colunas = linha.find_all('td')\n",
        "    titulo = colunas[1].a.get_text()\n",
        "    ano = colunas[1].span.get_text()[1:-1]\n",
        "    nota = colunas[2].strong.get_text()\n",
        "    conteudo_extraido.append([ranking, titulo, ano, nota])\n",
        "    \n",
        "\n",
        "# Escrevendo os dados extraídos no arquivo csv\n",
        "with open('imdb.csv', 'w', newline='') as arquivo_csv:\n",
        "    escritor = csv.writer(arquivo_csv, delimiter=';')\n",
        "    escritor.writerow(['ranking', 'titulo', 'ano', 'nota'])\n",
        "    for linha in conteudo_extraido:\n",
        "        escritor.writerow(linha)\n",
        "\n",
        "\n",
        "display(conteudo_extraido)\n"
      ]
    }
  ]
}