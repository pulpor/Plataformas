{
  "nbformat": 4,
  "nbformat_minor": 0,
  "metadata": {
    "colab": {
      "provenance": [],
      "toc_visible": true,
      "authorship_tag": "ABX9TyNfKwk0cJXT7gijKjKinYj0",
      "include_colab_link": true
    },
    "kernelspec": {
      "name": "python3",
      "display_name": "Python 3"
    },
    "language_info": {
      "name": "python"
    }
  },
  "cells": [
    {
      "cell_type": "markdown",
      "metadata": {
        "id": "view-in-github",
        "colab_type": "text"
      },
      "source": [
        "<a href=\"https://colab.research.google.com/github/pulpor/ebac/blob/main/Exerc%C3%ADcio_2.ipynb\" target=\"_parent\"><img src=\"https://colab.research.google.com/assets/colab-badge.svg\" alt=\"Open In Colab\"/></a>"
      ]
    },
    {
      "cell_type": "markdown",
      "source": [
        "Exercício 1"
      ],
      "metadata": {
        "id": "kQwJNY-HTwPC"
      }
    },
    {
      "cell_type": "code",
      "execution_count": null,
      "metadata": {
        "colab": {
          "base_uri": "https://localhost:8080/"
        },
        "id": "yHdcXQjnTYzN",
        "outputId": "80a2baa3-7bc8-41b1-facb-8d6fafd54869"
      },
      "outputs": [
        {
          "output_type": "stream",
          "name": "stdout",
          "text": [
            "['Um Sonho de Liberdade', 'O Poderoso Chefão', 'Batman: O Cavaleiro das Trevas', 'O Poderoso Chefão II', '12 Homens e uma Sentença', 'A Lista de Schindler', 'O Senhor dos Anéis: O Retorno do Rei', 'Pulp Fiction: Tempo de Violência', 'O Senhor dos Anéis: A Sociedade do Anel', 'Três Homens em Conflito']\n",
            "['O Poderoso Chefão', 'Um Sonho de Liberdade', 'Batman: O Cavaleiro das Trevas', 'O Poderoso Chefão II', '12 Homens e uma Sentença', 'A Lista de Schindler', 'O Senhor dos Anéis: O Retorno do Rei', 'Pulp Fiction: Tempo de Violência', 'O Senhor dos Anéis: A Sociedade do Anel', 'Três Homens em Conflito']\n"
          ]
        }
      ],
      "source": [
        "filmes = ['Um Sonho de Liberdade','O Poderoso Chefão','Batman: O Cavaleiro das Trevas',\n",
        "   'O Poderoso Chefão II','12 Homens e uma Sentença', 'A Lista de Schindler', \n",
        "   'O Senhor dos Anéis: O Retorno do Rei', 'Pulp Fiction: Tempo de Violência', \n",
        "   'O Senhor dos Anéis: A Sociedade do Anel', 'Três Homens em Conflito']\n",
        "\n",
        "print (filmes)\n",
        "\n",
        "#Colocando o segundo filme na posição 1, indíce 0 \n",
        "filmes.insert (0, 'O Poderoso Chefão') \n",
        "\n",
        "#Removendo o segundo filme, para não repitir\n",
        "filmes.pop (2) \n",
        "print (filmes)"
      ]
    },
    {
      "cell_type": "markdown",
      "source": [
        "Exercício 2"
      ],
      "metadata": {
        "id": "l1yphqPRVXMq"
      }
    },
    {
      "cell_type": "code",
      "source": [
        "#Simulando a duplicação dos 3 ultimos filmes \n",
        "\n",
        "filmes = ['Um Sonho de Liberdade','O Poderoso Chefão','Batman: O Cavaleiro das Trevas',\n",
        "   'O Poderoso Chefão II','12 Homens e uma Sentença', 'A Lista de Schindler', \n",
        "   'O Senhor dos Anéis: O Retorno do Rei', 'Pulp Fiction: Tempo de Violência', \n",
        "   'O Senhor dos Anéis: A Sociedade do Anel', 'Três Homens em Conflito','Pulp Fiction: Tempo de Violência', \n",
        "   'O Senhor dos Anéis: A Sociedade do Anel', 'Três Homens em Conflito']\n",
        "\n",
        "print (filmes)\n",
        "\n",
        "print (set (filmes))  #convertendo em set para remover a duplicação\n",
        "\n",
        "\n",
        "\n"
      ],
      "metadata": {
        "colab": {
          "base_uri": "https://localhost:8080/"
        },
        "id": "3dUxeU5bVY64",
        "outputId": "fa2acc6e-3723-453d-da24-f5f2a8357378"
      },
      "execution_count": null,
      "outputs": [
        {
          "output_type": "stream",
          "name": "stdout",
          "text": [
            "['Um Sonho de Liberdade', 'O Poderoso Chefão', 'Batman: O Cavaleiro das Trevas', 'O Poderoso Chefão II', '12 Homens e uma Sentença', 'A Lista de Schindler', 'O Senhor dos Anéis: O Retorno do Rei', 'Pulp Fiction: Tempo de Violência', 'O Senhor dos Anéis: A Sociedade do Anel', 'Três Homens em Conflito', 'Pulp Fiction: Tempo de Violência', 'O Senhor dos Anéis: A Sociedade do Anel', 'Três Homens em Conflito']\n",
            "{'Três Homens em Conflito', 'O Poderoso Chefão', 'Um Sonho de Liberdade', 'O Senhor dos Anéis: O Retorno do Rei', 'A Lista de Schindler', 'Batman: O Cavaleiro das Trevas', 'O Poderoso Chefão II', '12 Homens e uma Sentença', 'Pulp Fiction: Tempo de Violência', 'O Senhor dos Anéis: A Sociedade do Anel'}\n",
            "<class 'list'>\n"
          ]
        }
      ]
    },
    {
      "cell_type": "markdown",
      "source": [
        "Exercício 3"
      ],
      "metadata": {
        "id": "3V41k9nZP9bS"
      }
    },
    {
      "cell_type": "code",
      "source": [
        "filmes = [\n",
        "    \n",
        "           {'nome':'Um Sonho de Liberdade', 'ano' : '1994', 'sinopse' : 'Dois homens presos se reúnem ao longo de vários anos, encontrando consolo e eventual redenção através de atos de decência comum.'},\n",
        "           {'nome':'O Poderoso Chefão', 'ano' : '1972','sinopse' : 'O patriarca idoso de uma dinastia do crime organizado transfere o controle de seu império clandestino para seu filho relutante.'},\n",
        "           {'nome':'Batman: O Cavaleiro das Trevas','ano' : '2008','sinopse' : 'Quando a ameaça conhecida como O Coringa surge de seu passado, causa estragos e caos nas pessoas de Gotham. O Cavaleiro das Trevas deve aceitar um dos maiores testes para combater a injustiç...'},\n",
        "           {'nome':'O Poderoso Chefão II','ano' : '1974','sinopse' : 'Em 1950, Michael Corleone, agora à frente da família, tenta expandir o negócio do crime a Las Vegas, Los Angeles e Cuba. Paralelamente, é revelada a história de Vito Corleone, e de como saiu...'},\n",
        "           {'nome':'12 Homens e uma Sentença','ano' : '1957','sinopse' : 'Um jurado que se aposenta tenta evitar um erro judicial forçando seus colegas a reconsiderarem as evidências.'},\n",
        "           {'nome':'A Lista de Schindler', 'ano' : '1993','sinopse' : 'Depois de testemunhar a perseguição dos judaicos na Polônia ocupada pelos alemães durante a Segunda Guerra Mundial, o industrial Oskar Schindler se começa a preocupar com sua força de trabal... '},\n",
        "           {'nome':'O Senhor dos Anéis: O Retorno do Rei','ano' : '2003','sinopse' : 'Gandalf e Aragorn lideram o Mundo dos Homens contra o exército de Sauron para desviar o olhar de Frodo e Sam quando eles se aproximam á Montanha da Perdição com o Um Anel.'},\n",
        "           {'nome':'Pulp Fiction: Tempo de Violência', 'ano' : '1994','sinopse' : 'As vidas de dois assassinos da máfia, um boxeador, um gângster e sua esposa, e um par de bandidos se entrelaçam em quatro histórias de violência e redenção.'},\n",
        "           {'nome':'O Senhor dos Anéis: A Sociedade do Anel','ano' : '2001','sinopse' : 'Um manso hobbit do Condado e oito companheiros partem em uma jornada para destruir o poderoso Um Anel e salvar a Terra-média das Trevas.'},\n",
        "           {'nome':'Três Homens em Conflito', 'ano' : '1966','sinopse' : 'Um impostor se junta com dois homens para encontrar fortuna num remoto cemitério.'},\n",
        "]\n",
        "\n",
        "print (type(filmes))\n",
        "print (filmes)"
      ],
      "metadata": {
        "colab": {
          "base_uri": "https://localhost:8080/"
        },
        "id": "QDmoIIa_P_N3",
        "outputId": "8360d036-74cb-4b04-ba7c-8a1e8b5ca286"
      },
      "execution_count": null,
      "outputs": [
        {
          "output_type": "stream",
          "name": "stdout",
          "text": [
            "<class 'list'>\n",
            "[{'nome': 'Um Sonho de Liberdade', 'ano': '1994', 'sinopse': 'Dois homens presos se reúnem ao longo de vários anos, encontrando consolo e eventual redenção através de atos de decência comum.'}, {'nome': 'O Poderoso Chefão', 'ano': '1972', 'sinopse': 'O patriarca idoso de uma dinastia do crime organizado transfere o controle de seu império clandestino para seu filho relutante.'}, {'nome': 'Batman: O Cavaleiro das Trevas', 'ano': '2008', 'sinopse': 'Quando a ameaça conhecida como O Coringa surge de seu passado, causa estragos e caos nas pessoas de Gotham. O Cavaleiro das Trevas deve aceitar um dos maiores testes para combater a injustiç...'}, {'nome': 'O Poderoso Chefão II', 'ano': '1974', 'sinopse': 'Em 1950, Michael Corleone, agora à frente da família, tenta expandir o negócio do crime a Las Vegas, Los Angeles e Cuba. Paralelamente, é revelada a história de Vito Corleone, e de como saiu...'}, {'nome': '12 Homens e uma Sentença', 'ano': '1957', 'sinopse': 'Um jurado que se aposenta tenta evitar um erro judicial forçando seus colegas a reconsiderarem as evidências.'}, {'nome': 'A Lista de Schindler', 'ano': '1993', 'sinopse': 'Depois de testemunhar a perseguição dos judaicos na Polônia ocupada pelos alemães durante a Segunda Guerra Mundial, o industrial Oskar Schindler se começa a preocupar com sua força de trabal... '}, {'nome': 'O Senhor dos Anéis: O Retorno do Rei', 'ano': '2003', 'sinopse': 'Gandalf e Aragorn lideram o Mundo dos Homens contra o exército de Sauron para desviar o olhar de Frodo e Sam quando eles se aproximam á Montanha da Perdição com o Um Anel.'}, {'nome': 'Pulp Fiction: Tempo de Violência', 'ano': '1994', 'sinopse': 'As vidas de dois assassinos da máfia, um boxeador, um gângster e sua esposa, e um par de bandidos se entrelaçam em quatro histórias de violência e redenção.'}, {'nome': 'O Senhor dos Anéis: A Sociedade do Anel', 'ano': '2001', 'sinopse': 'Um manso hobbit do Condado e oito companheiros partem em uma jornada para destruir o poderoso Um Anel e salvar a Terra-média das Trevas.'}, {'nome': 'Três Homens em Conflito', 'ano': '1966', 'sinopse': 'Um impostor se junta com dois homens para encontrar fortuna num remoto cemitério.'}]\n"
          ]
        }
      ]
    }
  ]
}