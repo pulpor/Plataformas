{
  "nbformat": 4,
  "nbformat_minor": 0,
  "metadata": {
    "colab": {
      "provenance": [],
      "toc_visible": true,
      "authorship_tag": "ABX9TyO/VlfezXZb6CdSfSWNljsw",
      "include_colab_link": true
    },
    "kernelspec": {
      "name": "python3",
      "display_name": "Python 3"
    },
    "language_info": {
      "name": "python"
    }
  },
  "cells": [
    {
      "cell_type": "markdown",
      "metadata": {
        "id": "view-in-github",
        "colab_type": "text"
      },
      "source": [
        "<a href=\"https://colab.research.google.com/github/pulpor/ebac/blob/main/Exerc%C3%ADcio_4.ipynb\" target=\"_parent\"><img src=\"https://colab.research.google.com/assets/colab-badge.svg\" alt=\"Open In Colab\"/></a>"
      ]
    },
    {
      "cell_type": "markdown",
      "source": [
        "# 0. Preparação do ambiente"
      ],
      "metadata": {
        "id": "jA9nVVd54Ie1"
      }
    },
    {
      "cell_type": "code",
      "execution_count": null,
      "metadata": {
        "colab": {
          "base_uri": "https://localhost:8080/"
        },
        "id": "5pB9oQ6d1E8d",
        "outputId": "e23e6dab-6f83-4193-8453-609eb4fefda5"
      },
      "outputs": [
        {
          "output_type": "stream",
          "name": "stdout",
          "text": [
            "Writing carros.csv\n"
          ]
        }
      ],
      "source": [
        "%%writefile carros.csv\n",
        "id,valor_venda,valor_manutencao,portas,pessoas,porta_malas\n",
        "1,vhigh,med,2,2,small\n",
        "2,med,vhigh,2,2,small\n",
        "3,low,vhigh,2,2,small\n",
        "3,low,vhigh,2,2,small\n",
        "4,low,high,2,2,small\n",
        "5,low,high,2,2,small\n",
        "6,low,high,4,4,big\n",
        "7,low,high,4,4,big\n",
        "8,low,med,2,2,small\n",
        "9,low,med,2,2,small\n",
        "10,low,med,2,2,small\n",
        "11,low,med,4,4,big\n",
        "12,low,low,2,2,small\n",
        "13,low,low,4,4,small\n",
        "14,low,low,4,4,med"
      ]
    },
    {
      "cell_type": "code",
      "source": [
        "%%writefile musica.txt\n",
        "Roda Viva\n",
        "Chico Buarque\n",
        "Tem dias que a gente se sente\n",
        "Como quem partiu ou morreu\n",
        "A gente estancou de repente\n",
        "Ou foi o mundo então que cresceu\n",
        "A gente quer ter voz ativa\n",
        "No nosso destino mandar\n",
        "Mas eis que chega a roda viva\n",
        "E carrega o destino pra lá\n",
        "Roda mundo, roda-gigante\n",
        "Roda moinho, roda pião\n",
        "O tempo rodou num instante\n",
        "Nas voltas do meu coração\n",
        "A gente vai contra a corrente\n",
        "Até não poder resistir\n",
        "Na volta do barco é que sente\n",
        "O quanto deixou de cumprir\n",
        "Faz tempo que a gente cultiva\n",
        "A mais linda roseira que há\n",
        "Mas eis que chega a roda viva\n",
        "E carrega a roseira pra lá\n",
        "Roda mundo, roda-gigante\n",
        "Roda moinho, roda pião\n",
        "Overwriting musica.txt"
      ],
      "metadata": {
        "colab": {
          "base_uri": "https://localhost:8080/"
        },
        "id": "LbbeaFEq1R62",
        "outputId": "e1b0a448-129d-4988-e72f-211d57e0decf"
      },
      "execution_count": null,
      "outputs": [
        {
          "output_type": "stream",
          "name": "stdout",
          "text": [
            "Writing musica.txt\n"
          ]
        }
      ]
    },
    {
      "cell_type": "markdown",
      "source": [
        "Testando o with open ⬇ "
      ],
      "metadata": {
        "id": "CmB9wJE_4elD"
      }
    },
    {
      "cell_type": "code",
      "source": [
        "conteudo = None\n",
        "chicao = None\n",
        "\n",
        "with open(file='./carros.csv', mode='r', encoding='utf8') as arquivo:\n",
        "  conteudo = arquivo.read()\n",
        "\n",
        "with open(file='./musica.txt', mode='r', encoding='utf8') as arquivo:\n",
        "  chicao = arquivo.read()\n",
        "\n",
        "print(conteudo)\n",
        "print(chicao)"
      ],
      "metadata": {
        "colab": {
          "base_uri": "https://localhost:8080/"
        },
        "id": "eqIVWiGE2jpO",
        "outputId": "1a564100-3b56-404d-a26c-24a763cf0357"
      },
      "execution_count": null,
      "outputs": [
        {
          "output_type": "stream",
          "name": "stdout",
          "text": [
            "id,valor_venda,valor_manutencao,portas,pessoas,porta_malas\n",
            "1,vhigh,med,2,2,small\n",
            "2,med,vhigh,2,2,small\n",
            "3,low,vhigh,2,2,small\n",
            "3,low,vhigh,2,2,small\n",
            "4,low,high,2,2,small\n",
            "5,low,high,2,2,small\n",
            "6,low,high,4,4,big\n",
            "7,low,high,4,4,big\n",
            "8,low,med,2,2,small\n",
            "9,low,med,2,2,small\n",
            "10,low,med,2,2,small\n",
            "11,low,med,4,4,big\n",
            "12,low,low,2,2,small\n",
            "13,low,low,4,4,small\n",
            "14,low,low,4,4,med\n",
            "\n",
            "Roda Viva\n",
            "Chico Buarque\n",
            "Tem dias que a gente se sente\n",
            "Como quem partiu ou morreu\n",
            "A gente estancou de repente\n",
            "Ou foi o mundo então que cresceu\n",
            "A gente quer ter voz ativa\n",
            "No nosso destino mandar\n",
            "Mas eis que chega a roda viva\n",
            "E carrega o destino pra lá\n",
            "Roda mundo, roda-gigante\n",
            "Roda moinho, roda pião\n",
            "O tempo rodou num instante\n",
            "Nas voltas do meu coração\n",
            "A gente vai contra a corrente\n",
            "Até não poder resistir\n",
            "Na volta do barco é que sente\n",
            "O quanto deixou de cumprir\n",
            "Faz tempo que a gente cultiva\n",
            "A mais linda roseira que há\n",
            "Mas eis que chega a roda viva\n",
            "E carrega a roseira pra lá\n",
            "Roda mundo, roda-gigante\n",
            "Roda moinho, roda pião\n",
            "Overwriting musica.txt\n",
            "\n"
          ]
        }
      ]
    },
    {
      "cell_type": "markdown",
      "source": [
        "# 1. Extração de coluna de arquivo csv"
      ],
      "metadata": {
        "id": "zVDP4q8S4STr"
      }
    },
    {
      "cell_type": "markdown",
      "source": [
        "1.1 extraindo os valores em 'valor_venda' e armazenando em uma lista"
      ],
      "metadata": {
        "id": "IC7D41MY4z50"
      }
    },
    {
      "cell_type": "code",
      "source": [
        "valor_venda = []\n",
        "\n",
        "with open(file='./carros.csv', mode='r', encoding='utf8') as arquivo:\n",
        "  linha = arquivo.readline() #le a primeira linha [cabeçalho]\n",
        "  linha = arquivo.readline() #primeira linha de fato\n",
        "\n",
        "  while linha:\n",
        "\n",
        "    #separada = lista que armazenara os resultados separados pelo 'split' por vírgular\n",
        "    separada = linha.split(sep=',')\n",
        "    #var vendas = armazena o segundo conteudo da lista 'separada'\n",
        "    vendas = separada[1]\n",
        "    #acrescenta(append) oq tem na var 'vendas' no array 'valor_venda' \n",
        "    valor_venda.append(vendas)\n",
        "\n",
        "    linha = arquivo.readline()\n",
        "    #lê uma nova linha, se a linha não existir, salva o valor None\n",
        "  \n",
        "print(valor_venda)"
      ],
      "metadata": {
        "colab": {
          "base_uri": "https://localhost:8080/"
        },
        "id": "wSfPzHl-3TQ2",
        "outputId": "cc787d9f-eb3c-42f4-a6fb-902dacf2beb3"
      },
      "execution_count": null,
      "outputs": [
        {
          "output_type": "stream",
          "name": "stdout",
          "text": [
            "['vhigh', 'med', 'low', 'low', 'low', 'low', 'low', 'low', 'low', 'low', 'low', 'low', 'low', 'low', 'low']\n"
          ]
        }
      ]
    },
    {
      "cell_type": "markdown",
      "source": [
        "1.2 completando a função def para extrair uma coluna em lista"
      ],
      "metadata": {
        "id": "y3MnEkb18qbX"
      }
    },
    {
      "cell_type": "code",
      "source": [
        "def extrai_coluna_csv(nome_arquivo: str, indice_coluna: int):\n",
        "              #declaramos que o nome é string e o indice é inteiro\n",
        "\n",
        "  coluna = [] #declara var 'coluna' como uma array vazia\n",
        "\n",
        "  #lendo o arquivo com o comando 'with' utilizando o parametro 'nome_arquivo'\n",
        "  with open (file=nome_arquivo, mode='r', encoding='utf8') as arquivo:\n",
        "\n",
        "    linha = arquivo.readline() #le a primeira linha [cabeçalho]\n",
        "    linha = arquivo.readline() #primeira linha de fato (conteudo) \n",
        "\n",
        "    while linha:  \n",
        "      separada = linha.split(sep=',') \n",
        "      item = separada[indice_coluna] #aqui não definimos o numero e sim o nome, pois não é fixo\n",
        "      #logo, eu coloco na var 'item' oq estiver em 'indice_coluna', podendo ser escolhido mais tarde\n",
        "\n",
        "      coluna.append(item)     #acrescenta/append oq tem na var 'item' no array 'coluna' \n",
        "      linha = arquivo.readline()   #lê uma nova linha, se a linha não existir, salva o valor None\n",
        "\n",
        "  return coluna #encerra a execução de uma função\n",
        "\n",
        "#extrair a coluna valor_venda       #aqui sim coloca o numero para cada valor que você quer pegar!\n",
        "valor_manutencao = extrai_coluna_csv(nome_arquivo='./carros.csv', indice_coluna=2) \n",
        "print(valor_manutencao) # deve retornar ['med', 'vhigh', 'vhigh', ...]\n",
        "\n",
        "#extrair a coluna porta_malas\n",
        "porta_malas = extrai_coluna_csv(nome_arquivo='./carros.csv', indice_coluna=5)\n",
        "print(porta_malas) # deve retornar ['small', 'small', 'small', ...]\n",
        "   \n"
      ],
      "metadata": {
        "colab": {
          "base_uri": "https://localhost:8080/"
        },
        "id": "7P5tYJkgGVz2",
        "outputId": "af66ea53-42c4-4416-bcd1-afb1ed9a5b95"
      },
      "execution_count": null,
      "outputs": [
        {
          "output_type": "stream",
          "name": "stdout",
          "text": [
            "['med', 'vhigh', 'vhigh', 'vhigh', 'high', 'high', 'high', 'high', 'med', 'med', 'med', 'med', 'low', 'low', 'low']\n",
            "['small\\n', 'small\\n', 'small\\n', 'small\\n', 'small\\n', 'small\\n', 'big\\n', 'big\\n', 'small\\n', 'small\\n', 'small\\n', 'big\\n', 'small\\n', 'small\\n', 'med\\n']\n"
          ]
        }
      ]
    },
    {
      "cell_type": "markdown",
      "source": [
        "# 2. Bônus"
      ],
      "metadata": {
        "id": "ZVRybOUzLxcl"
      }
    },
    {
      "cell_type": "markdown",
      "source": [
        "1. funções para arquivos csv"
      ],
      "metadata": {
        "id": "sNNaIjrSL7zU"
      }
    },
    {
      "cell_type": "code",
      "source": [
        "def extrai_coluna_csv(nome_arquivo: str, indice_coluna: int, tipo_dado: str):\n",
        "\n",
        "  coluna = []\n",
        "  with open(file=nome_arquivo, mode='r', encoding='utf8') as arquivo:\n",
        "\n",
        "    linha = arquivo.readline()\n",
        "    linha = arquivo.readline()\n",
        " \n",
        "    while linha:  \n",
        "      separada = linha.split(sep=',') \n",
        "      item = separada[indice_coluna]\n",
        "\n",
        "      #se o tipo da var 'tipo_dado' for uma string então:\n",
        "        #var 'item' = converte para string (ela mesma)\n",
        "\n",
        "      if type(tipo_dado) == 'str':\n",
        "        item = str(item)\n",
        "\n",
        "      if type(tipo_dado) == 'int':\n",
        "        item = int(item)    \n",
        "\n",
        "      if type(tipo_dado) == 'float':\n",
        "        item = float(item)        \n",
        "\n",
        "      if type(tipo_dado) == 'bool':\n",
        "        item = bool(item)\n",
        " \n",
        "      coluna.append(item)\n",
        "      linha=arquivo.readline()\n",
        "\n",
        "    return coluna\n",
        "\n",
        "# extrair a coluna valor_venda\n",
        "valor_venda = extrai_coluna_csv(nome_arquivo='./carros.csv', indice_coluna=1, tipo_dado='str')\n",
        "print(valor_venda) # deve retornar ['vhigh', 'med', 'low', ...] \n",
        "\n",
        "# extrair a coluna pessoas\n",
        "pessoas = extrai_coluna_csv(nome_arquivo='./carros.csv', indice_coluna=4, tipo_dado='int')\n",
        "print(pessoas) # deve retornar [2, 2, 2, ...]"
      ],
      "metadata": {
        "colab": {
          "base_uri": "https://localhost:8080/"
        },
        "id": "6R98GBCTL54k",
        "outputId": "a317ad54-dc66-4b18-8c37-c7b735a2ee2b"
      },
      "execution_count": null,
      "outputs": [
        {
          "output_type": "stream",
          "name": "stdout",
          "text": [
            "['vhigh', 'med', 'low', 'low', 'low', 'low', 'low', 'low', 'low', 'low', 'low', 'low', 'low', 'low', 'low']\n",
            "['2', '2', '2', '2', '2', '2', '4', '4', '2', '2', '2', '4', '2', '4', '4']\n"
          ]
        }
      ]
    },
    {
      "cell_type": "markdown",
      "source": [
        "2. funções para o arquivo txt"
      ],
      "metadata": {
        "id": "KwLJnkIEQPWD"
      }
    },
    {
      "cell_type": "code",
      "source": [
        "def extrai_linha_txt(nome_arquivo: str, numero_linha: int):\n",
        "\n",
        "  palavras_linha = []\n",
        "  with open(file=nome_arquivo, mode='r', encoding='utf8') as arquivo:\n",
        "\n",
        "    linha = arquivo.readlines()[numero_linha -2]\n",
        "    separada = linha.split(sep=' ')  #separo por espaço vazio ' ' \n",
        "\n",
        "    palavras_linha.append(separada) #palavras_linha acrescenta var 'separada'\n",
        "  \n",
        "\n",
        "  return palavras_linha\n",
        "\n",
        "# leia o arquivo com o comando 'with' utilizando o parametro 'nome_arquivo'\n",
        "# extraia a linha do arquivo utilizando o parametro 'numero_linha'\n",
        "# quebre a linha em palavras com o comando split, note que o separador é um espaço ' ' \n",
        "\n",
        "linha10 = extrai_linha_txt(nome_arquivo='./musica.txt', numero_linha=10)\n",
        "print(linha10) # deve retornar ['Mas', 'eis', 'que', 'chega', 'a', 'roda', 'viva']\n",
        "\n",
        "linha9 = extrai_linha_txt(nome_arquivo='./musica.txt', numero_linha=9)\n",
        "print(linha9) "
      ],
      "metadata": {
        "colab": {
          "base_uri": "https://localhost:8080/"
        },
        "id": "OI7hEPBpQSKy",
        "outputId": "bddf65cb-12e4-48a5-9df8-7bdd03c3c459"
      },
      "execution_count": null,
      "outputs": [
        {
          "output_type": "stream",
          "name": "stdout",
          "text": [
            "[['Mas', 'eis', 'que', 'chega', 'a', 'roda', 'viva\\n']]\n",
            "[['No', 'nosso', 'destino', 'mandar\\n']]\n"
          ]
        }
      ]
    }
  ]
}