{
  "nbformat": 4,
  "nbformat_minor": 0,
  "metadata": {
    "colab": {
      "provenance": [],
      "toc_visible": true,
      "authorship_tag": "ABX9TyNJargMWEbteL7YPdQnb+qq",
      "include_colab_link": true
    },
    "kernelspec": {
      "name": "python3",
      "display_name": "Python 3"
    },
    "language_info": {
      "name": "python"
    }
  },
  "cells": [
    {
      "cell_type": "markdown",
      "metadata": {
        "id": "view-in-github",
        "colab_type": "text"
      },
      "source": [
        "<a href=\"https://colab.research.google.com/github/pulpor/ebac/blob/main/Exerc%C3%ADcio_5.ipynb\" target=\"_parent\"><img src=\"https://colab.research.google.com/assets/colab-badge.svg\" alt=\"Open In Colab\"/></a>"
      ]
    },
    {
      "cell_type": "code",
      "execution_count": null,
      "metadata": {
        "id": "Eqxt6uhYNpAP"
      },
      "outputs": [],
      "source": []
    },
    {
      "cell_type": "markdown",
      "source": [
        "# preparação do ambiente"
      ],
      "metadata": {
        "id": "87GrBCKNNryQ"
      }
    },
    {
      "cell_type": "markdown",
      "source": [
        "os arquivos csv abaixo serão definidos com **dados de crédito**."
      ],
      "metadata": {
        "id": "WRX1voTzNw3G"
      }
    },
    {
      "cell_type": "code",
      "source": [
        "%%writefile credito.csv\n",
        "id_vendedor,valor_emprestimos,quantidade_emprestimos,data\n",
        "104271,448.0,1,20161208\n",
        "21476,826.7,3,20161208\n",
        "87440,313.6,3,20161208\n",
        "15980,-8008.0,6,20161208\n",
        "215906,2212.0,5,20161208\n",
        "33696,2771.3,2,20161208\n",
        "33893,2240.0,3,20161208\n",
        "214946,-4151.0,18,20161208\n",
        "123974,2021.95,2,20161208\n",
        "225870,4039.0,2,20161208"
      ],
      "metadata": {
        "colab": {
          "base_uri": "https://localhost:8080/"
        },
        "id": "oSVMDA0ZN_w3",
        "outputId": "3684d89b-487e-4eac-f3c9-9ea3e03d7fbb"
      },
      "execution_count": null,
      "outputs": [
        {
          "output_type": "stream",
          "name": "stdout",
          "text": [
            "Overwriting credito.csv\n"
          ]
        }
      ]
    },
    {
      "cell_type": "markdown",
      "source": [
        "lendo conteúdo do arquivo em uma lista onde cada elemento é um dicionário, representando as linhas do arquivo."
      ],
      "metadata": {
        "id": "JdPvcZ1nOCRe"
      }
    },
    {
      "cell_type": "code",
      "source": [
        "emprestimos = []\n",
        "\n",
        "with open(file='./credito.csv', mode='r', encoding='utf8') as fp:\n",
        "  fp.readline() # cabeçalho\n",
        "  linha = fp.readline()\n",
        "\n",
        "  while linha:\n",
        "  \n",
        "    # linha emprestimo começa vazia, {} para substituir por uma variavel\n",
        "    linha_emprestimo = {}\n",
        "  \n",
        "   # linha elementos = var linha cortada, separada pela vírgula\n",
        "    linha_elementos = linha.strip().split(sep=',')\n",
        "   \n",
        "    # linha emprestimo [no array id vededor] = linha elementos [posição 0]\n",
        "    linha_emprestimo['id_vendedor'] = linha_elementos[0]\n",
        "    linha_emprestimo['valor_emprestimos'] = linha_elementos[1]\n",
        "    linha_emprestimo['quantidade_emprestimos'] = linha_elementos[2]\n",
        "    linha_emprestimo['data'] = linha_elementos[3]\n",
        "  \n",
        "    # adiciona linha emprestimo em emprestimos [array vazia no topo]\n",
        "    emprestimos.append(linha_emprestimo)\n",
        "    linha = fp.readline()"
      ],
      "metadata": {
        "id": "RpRD8rMWOOuO"
      },
      "execution_count": null,
      "outputs": []
    },
    {
      "cell_type": "code",
      "source": [
        "for x in emprestimos:\n",
        "  print(x)"
      ],
      "metadata": {
        "colab": {
          "base_uri": "https://localhost:8080/"
        },
        "id": "FTkQWjpWOXXH",
        "outputId": "8129223d-d7b4-4e3d-dc99-6809b4eb37bb"
      },
      "execution_count": null,
      "outputs": [
        {
          "output_type": "stream",
          "name": "stdout",
          "text": [
            "{'id_vendedor': '104271', 'valor_emprestimos': '448.0', 'quantidade_emprestimos': '1', 'data': '20161208'}\n",
            "{'id_vendedor': '21476', 'valor_emprestimos': '826.7', 'quantidade_emprestimos': '3', 'data': '20161208'}\n",
            "{'id_vendedor': '87440', 'valor_emprestimos': '313.6', 'quantidade_emprestimos': '3', 'data': '20161208'}\n",
            "{'id_vendedor': '15980', 'valor_emprestimos': '-8008.0', 'quantidade_emprestimos': '6', 'data': '20161208'}\n",
            "{'id_vendedor': '215906', 'valor_emprestimos': '2212.0', 'quantidade_emprestimos': '5', 'data': '20161208'}\n",
            "{'id_vendedor': '33696', 'valor_emprestimos': '2771.3', 'quantidade_emprestimos': '2', 'data': '20161208'}\n",
            "{'id_vendedor': '33893', 'valor_emprestimos': '2240.0', 'quantidade_emprestimos': '3', 'data': '20161208'}\n",
            "{'id_vendedor': '214946', 'valor_emprestimos': '-4151.0', 'quantidade_emprestimos': '18', 'data': '20161208'}\n",
            "{'id_vendedor': '123974', 'valor_emprestimos': '2021.95', 'quantidade_emprestimos': '2', 'data': '20161208'}\n",
            "{'id_vendedor': '225870', 'valor_emprestimos': '4039.0', 'quantidade_emprestimos': '2', 'data': '20161208'}\n"
          ]
        }
      ]
    },
    {
      "cell_type": "markdown",
      "source": [
        "# 1. função map"
      ],
      "metadata": {
        "id": "5tz4n-pePsvA"
      }
    },
    {
      "cell_type": "markdown",
      "source": [
        "Aplique a função map na lista de `emprestimos` para extrair os valores da chave `valor_emprestimos` na lista `valor_emprestimos_lista`. Faça também a conversão de `str` para `float`."
      ],
      "metadata": {
        "id": "qIY4mCedPy5w"
      }
    },
    {
      "cell_type": "code",
      "source": [
        "#var c map = map (aplica a função em todos os elementos)\n",
        "#lambda não precisa definir função\n",
        "\n",
        "                    #o 'x' é o elemento q recebe:  float de ( 'x' recebendo [valor emprestimo] , dentro da var 'emprestimos' )\n",
        "valor_emprestimos_map = map(lambda x: float (x['valor_emprestimos']) , emprestimos)\n",
        "\n",
        "#var lista = list ( valor emprestimo mapa )\n",
        "valor_emprestimos_lista = list(valor_emprestimos_map)\n",
        "print(valor_emprestimos_lista)\n"
      ],
      "metadata": {
        "colab": {
          "base_uri": "https://localhost:8080/"
        },
        "id": "SNWoudklP0TP",
        "outputId": "a812e959-b4ba-4eaa-85b9-ae6bffd156bb"
      },
      "execution_count": null,
      "outputs": [
        {
          "output_type": "stream",
          "name": "stdout",
          "text": [
            "[448.0, 826.7, 313.6, -8008.0, 2212.0, 2771.3, 2240.0, -4151.0, 2021.95, 4039.0]\n"
          ]
        }
      ]
    },
    {
      "cell_type": "markdown",
      "source": [
        "# 2. função filter"
      ],
      "metadata": {
        "id": "WE7yzsF8wOza"
      }
    },
    {
      "cell_type": "markdown",
      "source": [
        "Aplique a função filter na lista de `valor_emprestimos_lista` para filtrar apenas os valores maiores que zero (os valores negativas são erros na base de dados). Salve os valores na lista `valor_emprestimos_lista_filtrada`."
      ],
      "metadata": {
        "id": "25FmxnonwVcp"
      }
    },
    {
      "cell_type": "code",
      "source": [
        "\n",
        "# filter = filtrar elementos de uma coleção, ele aplica a função em cada elemento\n",
        "# 'x' recebe: 'x > 0' , dentro da var 'valor_emprestimo_lista'\n",
        "\n",
        "valor_emprestimos_lista_filtrada = (list(filter(lambda x: x > 0, valor_emprestimos_lista)))\n",
        "print (valor_emprestimos_lista_filtrada)\n"
      ],
      "metadata": {
        "colab": {
          "base_uri": "https://localhost:8080/"
        },
        "id": "6YHugRjDwWNZ",
        "outputId": "ba40ca0b-4f6f-4b47-cfbf-c0f4f174e1a7"
      },
      "execution_count": null,
      "outputs": [
        {
          "output_type": "stream",
          "name": "stdout",
          "text": [
            "[448.0, 826.7, 313.6, 2212.0, 2771.3, 2240.0, 2021.95, 4039.0]\n"
          ]
        }
      ]
    },
    {
      "cell_type": "markdown",
      "source": [
        "# 3. função reduce"
      ],
      "metadata": {
        "id": "Qa9oZ6LSxjvx"
      }
    },
    {
      "cell_type": "markdown",
      "source": [
        "### 3\\.1\\. função `reduce` para extrair a **soma**\n",
        "\n",
        "\n",
        "Aplique a função reduce para somar os elementos da lista `valor_emprestimos_lista_filtrada` na variavel `soma_valor_emprestimos`.\n"
      ],
      "metadata": {
        "id": "xEz77fCixnjp"
      }
    },
    {
      "cell_type": "code",
      "source": [
        "from functools import reduce\n",
        "\n",
        "#usado em duas variaveis para fazer comparações\n",
        "# x e y recebem: x + y em valor_emprestimo...\n",
        "soma_valor_emprestimo = reduce(lambda x, y: x + y, valor_emprestimos_lista_filtrada)\n",
        "print(soma_valor_emprestimo)"
      ],
      "metadata": {
        "colab": {
          "base_uri": "https://localhost:8080/"
        },
        "id": "0a8o840uxmFh",
        "outputId": "7351e071-c6a7-4036-ff3f-5aef94ac9bc5"
      },
      "execution_count": null,
      "outputs": [
        {
          "output_type": "stream",
          "name": "stdout",
          "text": [
            "14872.550000000001\n"
          ]
        }
      ]
    },
    {
      "cell_type": "markdown",
      "source": [
        "### 3\\.2\\. função `reduce` para extrair a **media aritimética**\n",
        "\n",
        "\n",
        "Aplique a função reduce para extrair a média aritimética (mais informações [aqui](https://pt.wikipedia.org/wiki/M%C3%A9dia#M%C3%A9dia_aritm%C3%A9tica)) dos elementos da lista `valor_emprestimos_lista_filtrada` na variavel `media_valor_emprestimos`.\n",
        "\n",
        "Dica: Para calcular o tamanho da lista, isto é a quantidade de elementos, utilize a função len(), dentro do argumento da função coloque a lista `valor_emprestimos_lista_filtrada`."
      ],
      "metadata": {
        "id": "veTTFxuv1kba"
      }
    },
    {
      "cell_type": "code",
      "source": [
        "from functools import reduce\n",
        "\n",
        "#len = length = Ela retorna o comprimento de um objeto, por exemplo, ela pode retornar o número de itens em uma lista.\n",
        "media_valor_emprestimos = reduce(lambda x, y: x + y , valor_emprestimos_lista_filtrada) / len(valor_emprestimos_lista_filtrada)\n",
        "print(media_valor_emprestimos)"
      ],
      "metadata": {
        "colab": {
          "base_uri": "https://localhost:8080/"
        },
        "id": "TfZUnLwD1npB",
        "outputId": "846915d0-5974-49ce-bbae-b7a0d97a0e02"
      },
      "execution_count": null,
      "outputs": [
        {
          "output_type": "stream",
          "name": "stdout",
          "text": [
            "1859.0687500000001\n"
          ]
        }
      ]
    },
    {
      "cell_type": "markdown",
      "source": [
        "### 3\\.3\\. (**desafio**) função `reduce` para extrair o **desvio padrão amostral**\n",
        "\n",
        "Aplique a função reduce para extrair a média aritimética (mais informações [aqui](https://pt.wikipedia.org/wiki/M%C3%A9dia#M%C3%A9dia_aritm%C3%A9tica)) dos elementos da lista `valor_emprestimos_lista_filtrada` na variavel `desvio_padrao_valor_emprestimos`.\n"
      ],
      "metadata": {
        "id": "8WwWQnpG3IHT"
      }
    },
    {
      "cell_type": "code",
      "source": [
        "from functools import reduce\n",
        "       \n",
        "                                              #, dentro de [ map para aplicar a todos os elementos { lambda numero: (numero = media)² , dentro de emprestimos filtrada } \n",
        "                                              # divido pelo comprimento (ultimo numero) de emprestimos filtrada - 1 ] elevado a meio.\n",
        "desvio_padrao = float(reduce(lambda x, y: x + y, map(lambda numero: ((numero - media_valor_emprestimos)**2), valor_emprestimos_lista_filtrada)) / (len(valor_emprestimos_lista_filtrada)-1)) ** 0.5\n",
        "print(desvio_padrao) # 1271.9972711497849"
      ],
      "metadata": {
        "colab": {
          "base_uri": "https://localhost:8080/"
        },
        "id": "ALycTU_T3K0Z",
        "outputId": "00ee548a-c4d3-448d-c6ce-1f220cc62c8b"
      },
      "execution_count": null,
      "outputs": [
        {
          "output_type": "stream",
          "name": "stdout",
          "text": [
            "1271.9972711497849\n"
          ]
        }
      ]
    }
  ]
}